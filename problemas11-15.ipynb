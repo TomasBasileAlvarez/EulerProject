{
 "cells": [
  {
   "cell_type": "markdown",
   "metadata": {},
   "source": [
    "11.Encuentra el maximo producto de números adyacentes en la siguiente tabla"
   ]
  },
  {
   "cell_type": "code",
   "execution_count": 6,
   "metadata": {},
   "outputs": [
    {
     "name": "stdout",
     "output_type": "stream",
     "text": [
      "[[ 8  2 22 97 38 15  0 40  0 75  4  5  7 78 52 12 50 77 91  8]\n",
      " [49 49 99 40 17 81 18 57 60 87 17 40 98 43 69 48  4 56 62  0]\n",
      " [81 49 31 73 55 79 14 29 93 71 40 67 53 88 30  3 49 13 36 65]\n",
      " [52 70 95 23  4 60 11 42 69 24 68 56  1 32 56 71 37  2 36 91]\n",
      " [22 31 16 71 51 67 63 89 41 92 36 54 22 40 40 28 66 33 13 80]\n",
      " [24 47 32 60 99  3 45  2 44 75 33 53 78 36 84 20 35 17 12 50]\n",
      " [32 98 81 28 64 23 67 10 26 38 40 67 59 54 70 66 18 38 64 70]\n",
      " [67 26 20 68  2 62 12 20 95 63 94 39 63  8 40 91 66 49 94 21]\n",
      " [24 55 58  5 66 73 99 26 97 17 78 78 96 83 14 88 34 89 63 72]\n",
      " [21 36 23  9 75  0 76 44 20 45 35 14  0 61 33 97 34 31 33 95]\n",
      " [78 17 53 28 22 75 31 67 15 94  3 80  4 62 16 14  9 53 56 92]\n",
      " [16 39  5 42 96 35 31 47 55 58 88 24  0 17 54 24 36 29 85 57]\n",
      " [86 56  0 48 35 71 89  7  5 44 44 37 44 60 21 58 51 54 17 58]\n",
      " [19 80 81 68  5 94 47 69 28 73 92 13 86 52 17 77  4 89 55 40]\n",
      " [ 4 52  8 83 97 35 99 16  7 97 57 32 16 26 26 79 33 27 98 66]\n",
      " [88 36 68 87 57 62 20 72  3 46 33 67 46 55 12 32 63 93 53 69]\n",
      " [ 4 42 16 73 38 25 39 11 24 94 72 18  8 46 29 32 40 62 76 36]\n",
      " [20 69 36 41 72 30 23 88 34 62 99 69 82 67 59 85 74  4 36 16]\n",
      " [20 73 35 29 78 31 90  1 74 31 49 71 48 86 81 16 23 57  5 54]\n",
      " [ 1 70 54 71 83 51 54 69 16 92 33 48 61 43 52  1 89 19 67 48]]\n",
      "<numpy.lib.index_tricks.ndenumerate object at 0x0000027C3FB326D8>\n"
     ]
    }
   ],
   "source": [
    "import numpy as np\n",
    "\n",
    "lista = np.loadtxt(\"problema11.txt\",dtype='i',delimiter=' ')\n",
    "\n",
    "print(lista)\n"
   ]
  },
  {
   "cell_type": "code",
   "execution_count": 16,
   "metadata": {},
   "outputs": [
    {
     "name": "stdout",
     "output_type": "stream",
     "text": [
      "70600674\n",
      "(12, 6)\n"
     ]
    }
   ],
   "source": [
    "maxx= 0\n",
    "#ndenumarate permite iterar sobre indices y valores de un array\n",
    "for index, x in np.ndenumerate(lista):\n",
    "    try:\n",
    "        hor = x * lista[index[0],index[1]+1]*lista[index[0],index[1]+2] \\\n",
    "        *lista[index[0],index[1]+3]\n",
    "    except:\n",
    "        pass\n",
    "    try:\n",
    "        vert = x * lista[index[0]+1,index[1]]*lista[index[0]+2,index[1]] \\\n",
    "        *lista[index[0]+3,index[1]]\n",
    "    except:\n",
    "        pass\n",
    "    try:\n",
    "        diag1 = x * lista[index[0]+1,index[1]+1]*lista[index[0]+2,index[1]+2] \\\n",
    "        *lista[index[0]+3,index[1]+3]\n",
    "    except:\n",
    "        pass\n",
    "    try:\n",
    "        diag2 = x * lista[index[0]+1,index[1]-1]*lista[index[0]+2,index[1]-2] \\\n",
    "        *lista[index[0]+3,index[1]-3]\n",
    "    except:\n",
    "        pass\n",
    "    \n",
    "   \n",
    "    if max(maxx,hor,vert,diag1,diag2) > maxx:\n",
    "        maxx = max(maxx,hor,vert,diag1,diag2)\n",
    "        indice = (index[0],index[1])\n",
    "        \n",
    "    \n",
    "print(maxx)\n",
    "print(indice)"
   ]
  },
  {
   "cell_type": "markdown",
   "metadata": {},
   "source": [
    "12. Encuentra el primer numero triangular que tiene mas de 500 divisores"
   ]
  },
  {
   "cell_type": "code",
   "execution_count": 18,
   "metadata": {},
   "outputs": [
    {
     "name": "stdout",
     "output_type": "stream",
     "text": [
      "Triangular number: 76576500\n",
      "Divisors: 576\n",
      "Runtime = 1.3942983150482178\n"
     ]
    }
   ],
   "source": [
    "# Highly divisible triangular number\n",
    "import time\n",
    "\n",
    "start = time.time()\n",
    "\n",
    "\n",
    "def e12():\n",
    "    tri = 1\n",
    "    nat = 1\n",
    "    div = 4  # Every even number that is greater than 2 is divisible by 1, 2, half and itself without a reminder.\n",
    "    while div < 501:\n",
    "        nat += 1\n",
    "        tri += nat\n",
    "        if tri % 2 == 0 and tri > 250000:  # I don't know exactly, I took only even numbers > 500 ** 2\n",
    "            div = 4\n",
    "            for j in range(3, int(tri ** 0.5) + 1):\n",
    "                if tri % j == 0:\n",
    "                    div += 2     # Each time we have 2 divisors\n",
    "    print(\"Triangular number:\", tri)\n",
    "    print(\"Divisors:\", div)\n",
    "    end = time.time() - start\n",
    "    print(\"Runtime =\", end)\n",
    "\n",
    "\n",
    "e12()"
   ]
  },
  {
   "cell_type": "markdown",
   "metadata": {},
   "source": [
    "13. Encuentra los primeros 10 digitos de la suma de los siguientes 100 numeros de 50 digitos."
   ]
  },
  {
   "cell_type": "code",
   "execution_count": 30,
   "metadata": {},
   "outputs": [
    {
     "name": "stdout",
     "output_type": "stream",
     "text": [
      "5537376230\n"
     ]
    }
   ],
   "source": [
    "import numpy as np\n",
    "lista = open(\"problema13.txt\")\n",
    "\n",
    "summ=0\n",
    "for line in lista:\n",
    "    summ += int(line[:12]) #suma solo los primeros 12 digitos\n",
    "print(str(summ)[0:10])\n",
    "\n",
    "lista.close()\n",
    "\n",
    "\n"
   ]
  },
  {
   "cell_type": "markdown",
   "metadata": {},
   "source": [
    "14. Secuencia de Collatz mas larga para un numero menor a 1 000 000"
   ]
  },
  {
   "cell_type": "code",
   "execution_count": 9,
   "metadata": {
    "scrolled": true
   },
   "outputs": [
    {
     "ename": "IndexError",
     "evalue": "only integers, slices (`:`), ellipsis (`...`), numpy.newaxis (`None`) and integer or boolean arrays are valid indices",
     "output_type": "error",
     "traceback": [
      "\u001b[1;31m---------------------------------------------------------------------------\u001b[0m",
      "\u001b[1;31mIndexError\u001b[0m                                Traceback (most recent call last)",
      "\u001b[1;32m<ipython-input-9-72b70df93cad>\u001b[0m in \u001b[0;36m<module>\u001b[1;34m()\u001b[0m\n\u001b[0;32m     17\u001b[0m     \u001b[1;32mreturn\u001b[0m \u001b[0mvalues\u001b[0m\u001b[1;33m[\u001b[0m\u001b[0mn\u001b[0m\u001b[1;33m]\u001b[0m\u001b[1;33m\u001b[0m\u001b[0m\n\u001b[0;32m     18\u001b[0m \u001b[1;33m\u001b[0m\u001b[0m\n\u001b[1;32m---> 19\u001b[1;33m \u001b[0mcontar\u001b[0m\u001b[1;33m(\u001b[0m\u001b[1;36m2\u001b[0m\u001b[1;33m)\u001b[0m\u001b[1;33m\u001b[0m\u001b[0m\n\u001b[0m\u001b[0;32m     20\u001b[0m \u001b[0mlongestchain\u001b[0m\u001b[1;33m=\u001b[0m\u001b[1;36m0\u001b[0m\u001b[1;33m\u001b[0m\u001b[0m\n\u001b[0;32m     21\u001b[0m \u001b[0manswer\u001b[0m\u001b[1;33m=\u001b[0m\u001b[1;33m-\u001b[0m\u001b[1;36m1\u001b[0m\u001b[1;33m\u001b[0m\u001b[0m\n",
      "\u001b[1;32m<ipython-input-9-72b70df93cad>\u001b[0m in \u001b[0;36mcontar\u001b[1;34m(n)\u001b[0m\n\u001b[0;32m     11\u001b[0m \u001b[1;33m\u001b[0m\u001b[0m\n\u001b[0;32m     12\u001b[0m     \u001b[1;32mif\u001b[0m \u001b[0mn\u001b[0m \u001b[1;33m%\u001b[0m \u001b[1;36m2\u001b[0m \u001b[1;33m==\u001b[0m\u001b[1;36m0\u001b[0m\u001b[1;33m:\u001b[0m\u001b[1;33m\u001b[0m\u001b[0m\n\u001b[1;32m---> 13\u001b[1;33m         \u001b[0mvalues\u001b[0m\u001b[1;33m[\u001b[0m\u001b[0mn\u001b[0m\u001b[1;33m]\u001b[0m \u001b[1;33m=\u001b[0m \u001b[1;36m1\u001b[0m\u001b[1;33m+\u001b[0m\u001b[0mcontar\u001b[0m\u001b[1;33m(\u001b[0m\u001b[0mn\u001b[0m\u001b[1;33m/\u001b[0m\u001b[1;36m2\u001b[0m\u001b[1;33m)\u001b[0m\u001b[1;33m\u001b[0m\u001b[0m\n\u001b[0m\u001b[0;32m     14\u001b[0m     \u001b[1;32melse\u001b[0m\u001b[1;33m:\u001b[0m\u001b[1;33m\u001b[0m\u001b[0m\n\u001b[0;32m     15\u001b[0m         \u001b[0mvalues\u001b[0m\u001b[1;33m[\u001b[0m\u001b[0mn\u001b[0m\u001b[1;33m]\u001b[0m \u001b[1;33m=\u001b[0m \u001b[1;36m2\u001b[0m\u001b[1;33m+\u001b[0m\u001b[0mcontar\u001b[0m\u001b[1;33m(\u001b[0m\u001b[1;33m(\u001b[0m\u001b[1;36m3\u001b[0m\u001b[1;33m*\u001b[0m\u001b[0mn\u001b[0m\u001b[1;33m+\u001b[0m\u001b[1;36m1\u001b[0m\u001b[1;33m)\u001b[0m\u001b[1;33m/\u001b[0m\u001b[1;36m2\u001b[0m\u001b[1;33m)\u001b[0m\u001b[1;33m\u001b[0m\u001b[0m\n",
      "\u001b[1;32m<ipython-input-9-72b70df93cad>\u001b[0m in \u001b[0;36mcontar\u001b[1;34m(n)\u001b[0m\n\u001b[0;32m      7\u001b[0m \u001b[1;33m\u001b[0m\u001b[0m\n\u001b[0;32m      8\u001b[0m \u001b[1;32mdef\u001b[0m \u001b[0mcontar\u001b[0m\u001b[1;33m(\u001b[0m\u001b[0mn\u001b[0m\u001b[1;33m)\u001b[0m\u001b[1;33m:\u001b[0m\u001b[1;33m\u001b[0m\u001b[0m\n\u001b[1;32m----> 9\u001b[1;33m     \u001b[1;32mif\u001b[0m \u001b[0mvalues\u001b[0m\u001b[1;33m[\u001b[0m\u001b[0mn\u001b[0m\u001b[1;33m]\u001b[0m \u001b[1;33m!=\u001b[0m \u001b[1;36m0\u001b[0m\u001b[1;33m:\u001b[0m\u001b[1;33m\u001b[0m\u001b[0m\n\u001b[0m\u001b[0;32m     10\u001b[0m         \u001b[1;32mreturn\u001b[0m \u001b[0mvalues\u001b[0m\u001b[1;33m[\u001b[0m\u001b[0mn\u001b[0m\u001b[1;33m]\u001b[0m\u001b[1;33m\u001b[0m\u001b[0m\n\u001b[0;32m     11\u001b[0m \u001b[1;33m\u001b[0m\u001b[0m\n",
      "\u001b[1;31mIndexError\u001b[0m: only integers, slices (`:`), ellipsis (`...`), numpy.newaxis (`None`) and integer or boolean arrays are valid indices"
     ]
    }
   ],
   "source": [
    "# No necesitamos calcular Collatz(n) para n < 500000 porque Collatz(2n) > Collatz(n)\n",
    "#Si n es impar, collatz(n) = collatz((3n+1)/2)+2\n",
    "\n",
    "import numpy as np\n",
    "\n",
    "values = np.zeros(1000000)\n",
    "\n",
    "def contar(n):\n",
    "    if values[n] != 0:\n",
    "        return values[n]\n",
    "\n",
    "    if n % 2 ==0:\n",
    "        values[n] = 1+contar(n/2)\n",
    "    else:\n",
    "        values[n] = 2+contar((3*n+1)/2)\n",
    "        \n",
    "    return values[n]\n",
    "\n",
    "contar(2)\n",
    "longestchain=0\n",
    "answer=-1\n",
    "\n",
    "for n in range(500000,1000000):\n",
    "    if contar(n) > longestchain:\n",
    "        longestchain = contar(n)\n",
    "        answer = n\n",
    "        \n",
    "print(answer)  \n",
    "    \n",
    "    \n",
    "    \n",
    "\n",
    "\n",
    "\n",
    "\n",
    "    "
   ]
  },
  {
   "cell_type": "code",
   "execution_count": 16,
   "metadata": {},
   "outputs": [
    {
     "data": {
      "text/plain": [
       "137846528820.0"
      ]
     },
     "execution_count": 16,
     "metadata": {},
     "output_type": "execute_result"
    }
   ],
   "source": [
    "\n",
    "\n",
    "from math import *\n",
    "\n",
    "factorial(40) / (factorial(20)**2)\n"
   ]
  },
  {
   "cell_type": "markdown",
   "metadata": {},
   "source": [
    "Calcula la cantidad de caminos para ir de una esquina de un cuadrilatero a otra de 20*20"
   ]
  },
  {
   "cell_type": "code",
   "execution_count": 26,
   "metadata": {},
   "outputs": [
    {
     "name": "stdout",
     "output_type": "stream",
     "text": [
      "70\n"
     ]
    }
   ],
   "source": [
    "# Sea countR(m,n) la cantidad de caminos de una cuadricula de m*n\n",
    "#evidentemente R(m,n) = R(m,n-1) + R(m-1,n)\n",
    "\n",
    "def countR(m,n):\n",
    "    if n==0 or m ==0:\n",
    "        return 1\n",
    "    return(countR(m,n-1) + countR(m-1,n)) \n",
    "print(countR(4,4)) \n",
    "    "
   ]
  },
  {
   "cell_type": "code",
   "execution_count": 38,
   "metadata": {},
   "outputs": [
    {
     "name": "stdout",
     "output_type": "stream",
     "text": [
      "137846550000.0\n"
     ]
    }
   ],
   "source": [
    "# un poco mas rapido\n",
    "m=21\n",
    "n=21\n",
    "cache = np.full((m,n),-1,dtype='f')\n",
    "\n",
    "\n",
    "\n",
    "def countR(m,n):\n",
    "    if n==0 or m==0:\n",
    "        return 1\n",
    "    \n",
    "    if cache[m,n] != -1:\n",
    "        return cache[m,n]\n",
    "    \n",
    "    cache[m,n] = countR(m,n-1) + countR(m-1,n)\n",
    "    return cache[m,n]\n",
    "\n",
    "print(countR(m-1,n-1))\n",
    "\n"
   ]
  },
  {
   "cell_type": "code",
   "execution_count": 40,
   "metadata": {},
   "outputs": [
    {
     "name": "stdout",
     "output_type": "stream",
     "text": [
      "[[1.0000000e+00 1.0000000e+00 1.0000000e+00 1.0000000e+00 1.0000000e+00\n",
      "  1.0000000e+00 1.0000000e+00 1.0000000e+00 1.0000000e+00 1.0000000e+00\n",
      "  1.0000000e+00 1.0000000e+00 1.0000000e+00 1.0000000e+00 1.0000000e+00\n",
      "  1.0000000e+00 1.0000000e+00 1.0000000e+00 1.0000000e+00 1.0000000e+00\n",
      "  1.0000000e+00]\n",
      " [1.0000000e+00 2.0000000e+00 3.0000000e+00 4.0000000e+00 5.0000000e+00\n",
      "  6.0000000e+00 7.0000000e+00 8.0000000e+00 9.0000000e+00 1.0000000e+01\n",
      "  1.1000000e+01 1.2000000e+01 1.3000000e+01 1.4000000e+01 1.5000000e+01\n",
      "  1.6000000e+01 1.7000000e+01 1.8000000e+01 1.9000000e+01 2.0000000e+01\n",
      "  2.1000000e+01]\n",
      " [1.0000000e+00 3.0000000e+00 6.0000000e+00 1.0000000e+01 1.5000000e+01\n",
      "  2.1000000e+01 2.8000000e+01 3.6000000e+01 4.5000000e+01 5.5000000e+01\n",
      "  6.6000000e+01 7.8000000e+01 9.1000000e+01 1.0500000e+02 1.2000000e+02\n",
      "  1.3600000e+02 1.5300000e+02 1.7100000e+02 1.9000000e+02 2.1000000e+02\n",
      "  2.3100000e+02]\n",
      " [1.0000000e+00 4.0000000e+00 1.0000000e+01 2.0000000e+01 3.5000000e+01\n",
      "  5.6000000e+01 8.4000000e+01 1.2000000e+02 1.6500000e+02 2.2000000e+02\n",
      "  2.8600000e+02 3.6400000e+02 4.5500000e+02 5.6000000e+02 6.8000000e+02\n",
      "  8.1600000e+02 9.6900000e+02 1.1400000e+03 1.3300000e+03 1.5400000e+03\n",
      "  1.7710000e+03]\n",
      " [1.0000000e+00 5.0000000e+00 1.5000000e+01 3.5000000e+01 7.0000000e+01\n",
      "  1.2600000e+02 2.1000000e+02 3.3000000e+02 4.9500000e+02 7.1500000e+02\n",
      "  1.0010000e+03 1.3650000e+03 1.8200000e+03 2.3800000e+03 3.0600000e+03\n",
      "  3.8760000e+03 4.8450000e+03 5.9850000e+03 7.3150000e+03 8.8550000e+03\n",
      "  1.0626000e+04]\n",
      " [1.0000000e+00 6.0000000e+00 2.1000000e+01 5.6000000e+01 1.2600000e+02\n",
      "  2.5200000e+02 4.6200000e+02 7.9200000e+02 1.2870000e+03 2.0020000e+03\n",
      "  3.0030000e+03 4.3680000e+03 6.1880000e+03 8.5680000e+03 1.1628000e+04\n",
      "  1.5504000e+04 2.0349000e+04 2.6334000e+04 3.3649000e+04 4.2504000e+04\n",
      "  5.3130000e+04]\n",
      " [1.0000000e+00 7.0000000e+00 2.8000000e+01 8.4000000e+01 2.1000000e+02\n",
      "  4.6200000e+02 9.2400000e+02 1.7160000e+03 3.0030000e+03 5.0050000e+03\n",
      "  8.0080000e+03 1.2376000e+04 1.8564000e+04 2.7132000e+04 3.8760000e+04\n",
      "  5.4264000e+04 7.4613000e+04 1.0094700e+05 1.3459600e+05 1.7710000e+05\n",
      "  2.3023000e+05]\n",
      " [1.0000000e+00 8.0000000e+00 3.6000000e+01 1.2000000e+02 3.3000000e+02\n",
      "  7.9200000e+02 1.7160000e+03 3.4320000e+03 6.4350000e+03 1.1440000e+04\n",
      "  1.9448000e+04 3.1824000e+04 5.0388000e+04 7.7520000e+04 1.1628000e+05\n",
      "  1.7054400e+05 2.4515700e+05 3.4610400e+05 4.8070000e+05 6.5780000e+05\n",
      "  8.8803000e+05]\n",
      " [1.0000000e+00 9.0000000e+00 4.5000000e+01 1.6500000e+02 4.9500000e+02\n",
      "  1.2870000e+03 3.0030000e+03 6.4350000e+03 1.2870000e+04 2.4310000e+04\n",
      "  4.3758000e+04 7.5582000e+04 1.2597000e+05 2.0349000e+05 3.1977000e+05\n",
      "  4.9031400e+05 7.3547100e+05 1.0815750e+06 1.5622750e+06 2.2200750e+06\n",
      "  3.1081050e+06]\n",
      " [1.0000000e+00 1.0000000e+01 5.5000000e+01 2.2000000e+02 7.1500000e+02\n",
      "  2.0020000e+03 5.0050000e+03 1.1440000e+04 2.4310000e+04 4.8620000e+04\n",
      "  9.2378000e+04 1.6796000e+05 2.9393000e+05 4.9742000e+05 8.1719000e+05\n",
      "  1.3075040e+06 2.0429750e+06 3.1245500e+06 4.6868250e+06 6.9069000e+06\n",
      "  1.0015005e+07]\n",
      " [1.0000000e+00 1.1000000e+01 6.6000000e+01 2.8600000e+02 1.0010000e+03\n",
      "  3.0030000e+03 8.0080000e+03 1.9448000e+04 4.3758000e+04 9.2378000e+04\n",
      "  1.8475600e+05 3.5271600e+05 6.4664600e+05 1.1440660e+06 1.9612560e+06\n",
      "  3.2687600e+06 5.3117350e+06 8.4362850e+06 1.3123110e+07 2.0030010e+07\n",
      "  3.0045016e+07]\n",
      " [1.0000000e+00 1.2000000e+01 7.8000000e+01 3.6400000e+02 1.3650000e+03\n",
      "  4.3680000e+03 1.2376000e+04 3.1824000e+04 7.5582000e+04 1.6796000e+05\n",
      "  3.5271600e+05 7.0543200e+05 1.3520780e+06 2.4961440e+06 4.4574000e+06\n",
      "  7.7261600e+06 1.3037895e+07 2.1474180e+07 3.4597288e+07 5.4627296e+07\n",
      "  8.4672312e+07]\n",
      " [1.0000000e+00 1.3000000e+01 9.1000000e+01 4.5500000e+02 1.8200000e+03\n",
      "  6.1880000e+03 1.8564000e+04 5.0388000e+04 1.2597000e+05 2.9393000e+05\n",
      "  6.4664600e+05 1.3520780e+06 2.7041560e+06 5.2003000e+06 9.6577000e+06\n",
      "  1.7383860e+07 3.0421756e+07 5.1895936e+07 8.6493224e+07 1.4112051e+08\n",
      "  2.2579283e+08]\n",
      " [1.0000000e+00 1.4000000e+01 1.0500000e+02 5.6000000e+02 2.3800000e+03\n",
      "  8.5680000e+03 2.7132000e+04 7.7520000e+04 2.0349000e+05 4.9742000e+05\n",
      "  1.1440660e+06 2.4961440e+06 5.2003000e+06 1.0400600e+07 2.0058300e+07\n",
      "  3.7442160e+07 6.7863920e+07 1.1975986e+08 2.0625309e+08 3.4737360e+08\n",
      "  5.7316646e+08]\n",
      " [1.0000000e+00 1.5000000e+01 1.2000000e+02 6.8000000e+02 3.0600000e+03\n",
      "  1.1628000e+04 3.8760000e+04 1.1628000e+05 3.1977000e+05 8.1719000e+05\n",
      "  1.9612560e+06 4.4574000e+06 9.6577000e+06 2.0058300e+07 4.0116600e+07\n",
      "  7.7558760e+07 1.4542269e+08 2.6518254e+08 4.7143565e+08 8.1880922e+08\n",
      "  1.3919757e+09]\n",
      " [1.0000000e+00 1.6000000e+01 1.3600000e+02 8.1600000e+02 3.8760000e+03\n",
      "  1.5504000e+04 5.4264000e+04 1.7054400e+05 4.9031400e+05 1.3075040e+06\n",
      "  3.2687600e+06 7.7261600e+06 1.7383860e+07 3.7442160e+07 7.7558760e+07\n",
      "  1.5511752e+08 3.0054022e+08 5.6572275e+08 1.0371584e+09 1.8559676e+09\n",
      "  3.2479432e+09]\n",
      " [1.0000000e+00 1.7000000e+01 1.5300000e+02 9.6900000e+02 4.8450000e+03\n",
      "  2.0349000e+04 7.4613000e+04 2.4515700e+05 7.3547100e+05 2.0429750e+06\n",
      "  5.3117350e+06 1.3037895e+07 3.0421756e+07 6.7863920e+07 1.4542269e+08\n",
      "  3.0054022e+08 6.0108045e+08 1.1668032e+09 2.2039616e+09 4.0599291e+09\n",
      "  7.3078723e+09]\n",
      " [1.0000000e+00 1.8000000e+01 1.7100000e+02 1.1400000e+03 5.9850000e+03\n",
      "  2.6334000e+04 1.0094700e+05 3.4610400e+05 1.0815750e+06 3.1245500e+06\n",
      "  8.4362850e+06 2.1474180e+07 5.1895936e+07 1.1975986e+08 2.6518254e+08\n",
      "  5.6572275e+08 1.1668032e+09 2.3336064e+09 4.5375683e+09 8.5974979e+09\n",
      "  1.5905370e+10]\n",
      " [1.0000000e+00 1.9000000e+01 1.9000000e+02 1.3300000e+03 7.3150000e+03\n",
      "  3.3649000e+04 1.3459600e+05 4.8070000e+05 1.5622750e+06 4.6868250e+06\n",
      "  1.3123110e+07 3.4597288e+07 8.6493224e+07 2.0625309e+08 4.7143565e+08\n",
      "  1.0371584e+09 2.2039616e+09 4.5375683e+09 9.0751365e+09 1.7672634e+10\n",
      "  3.3578004e+10]\n",
      " [1.0000000e+00 2.0000000e+01 2.1000000e+02 1.5400000e+03 8.8550000e+03\n",
      "  4.2504000e+04 1.7710000e+05 6.5780000e+05 2.2200750e+06 6.9069000e+06\n",
      "  2.0030010e+07 5.4627296e+07 1.4112051e+08 3.4737360e+08 8.1880922e+08\n",
      "  1.8559676e+09 4.0599291e+09 8.5974979e+09 1.7672634e+10 3.5345269e+10\n",
      "  6.8923277e+10]\n",
      " [1.0000000e+00 2.1000000e+01 2.3100000e+02 1.7710000e+03 1.0626000e+04\n",
      "  5.3130000e+04 2.3023000e+05 8.8803000e+05 3.1081050e+06 1.0015005e+07\n",
      "  3.0045016e+07 8.4672312e+07 2.2579283e+08 5.7316646e+08 1.3919757e+09\n",
      "  3.2479432e+09 7.3078723e+09 1.5905370e+10 3.3578004e+10 6.8923277e+10\n",
      "  1.3784655e+11]]\n"
     ]
    }
   ],
   "source": [
    "#Solucion iterativa\n",
    "\n",
    "#Sea grid[m,n] la cantidad de caminos de cuadricula de m*n\n",
    "\n",
    "m=20\n",
    "n=20\n",
    "\n",
    "\n",
    "grid = np.full((m+1,n+1),-1,dtype='f')\n",
    "\n",
    "for i in range(0,m+1):\n",
    "    grid[i][0] = 1\n",
    "    \n",
    "for j in range(0,n+1):\n",
    "    grid[0][j] = 1\n",
    "\n",
    "for i in range(1,m+1):\n",
    "    for j in range(1,n+1):\n",
    "        grid[i][j] = grid[i-1][j] + grid[i][j-1]\n",
    "        \n",
    "print(grid)"
   ]
  },
  {
   "cell_type": "code",
   "execution_count": 49,
   "metadata": {},
   "outputs": [
    {
     "name": "stdout",
     "output_type": "stream",
     "text": [
      "1366\n"
     ]
    }
   ],
   "source": [
    "a=str(2**1000)\n",
    "summ=0\n",
    "for i in a:\n",
    "    summ = summ +int(i)    \n",
    "print(summ)"
   ]
  },
  {
   "cell_type": "code",
   "execution_count": null,
   "metadata": {},
   "outputs": [],
   "source": []
  }
 ],
 "metadata": {
  "kernelspec": {
   "display_name": "Python 3",
   "language": "python",
   "name": "python3"
  },
  "language_info": {
   "codemirror_mode": {
    "name": "ipython",
    "version": 3
   },
   "file_extension": ".py",
   "mimetype": "text/x-python",
   "name": "python",
   "nbconvert_exporter": "python",
   "pygments_lexer": "ipython3",
   "version": "3.6.5"
  }
 },
 "nbformat": 4,
 "nbformat_minor": 2
}
