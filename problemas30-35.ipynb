{
 "cells": [
  {
   "cell_type": "markdown",
   "metadata": {},
   "source": [
    "##### 31. Coin Sums\n",
    "En uk hay monedas de valor 1,2,5,10,20,50,100,200. De cu'antas formas se puede llegar a 200 pesos?"
   ]
  },
  {
   "cell_type": "code",
   "execution_count": 1,
   "metadata": {},
   "outputs": [
    {
     "name": "stdout",
     "output_type": "stream",
     "text": [
      "[1, 1, 2, 3, 5, 9, 15, 26, 44, 75, 0, 0, 0, 0, 0, 0, 0, 0, 0, 0, 0, 0, 0, 0, 0, 0, 0, 0, 0, 0, 0, 0, 0, 0, 0, 0, 0, 0, 0, 0, 0, 0, 0, 0, 0, 0, 0, 0, 0, 0, 0, 0, 0, 0, 0, 0, 0, 0, 0, 0, 0, 0, 0, 0, 0, 0, 0, 0, 0, 0, 0, 0, 0, 0, 0, 0, 0, 0, 0, 0, 0, 0, 0, 0, 0, 0, 0, 0, 0, 0, 0, 0, 0, 0, 0, 0, 0, 0, 0, 0, 0, 0, 0, 0, 0, 0, 0, 0, 0, 0, 0, 0, 0, 0, 0, 0, 0, 0, 0, 0, 0, 0, 0, 0, 0, 0, 0, 0, 0, 0, 0, 0, 0, 0, 0, 0, 0, 0, 0, 0, 0, 0, 0, 0, 0, 0, 0, 0, 0, 0, 0, 0, 0, 0, 0, 0, 0, 0, 0, 0, 0, 0, 0, 0, 0, 0, 0, 0, 0, 0, 0, 0, 0, 0, 0, 0, 0, 0, 0, 0, 0, 0, 0, 0, 0, 0, 0, 0, 0, 0, 0, 0, 0, 0, 0, 0, 0, 0, 0, 0, 0]\n"
     ]
    },
    {
     "data": {
      "text/plain": [
       "'No funciona, porque esta contando el numero de formas de conseguir el valor\\npero contando doble posibles reordenamientos'"
      ]
     },
     "execution_count": 1,
     "metadata": {},
     "output_type": "execute_result"
    }
   ],
   "source": [
    "monedas = [1,2,5,10,20,50,100,200]\n",
    "\n",
    "#podemos hacer un algoritmo dinamico\n",
    "# Sea formas[i] el numero de formas en las que se puede sumar i. \n",
    "\n",
    "\n",
    "formas = 201*[0]\n",
    "#el numero de formas de conseguir 0 pesos es 1\n",
    "formas[0]=1\n",
    "\n",
    "\n",
    "# para cada otro numero\n",
    "for i in range(1,10):\n",
    "    # primero el valor es 0\n",
    "    valori=0\n",
    "    #luego, es igual al numero de formas de llegar a i-coin para cada coin\n",
    "    #todas sumadas\n",
    "    for coin in monedas:\n",
    "        if i >= coin:\n",
    "            valori = valori + formas[i-coin]\n",
    "    formas[i] = valori\n",
    "            \n",
    "print(formas)\n",
    "'''No funciona, porque esta contando el numero de formas de conseguir el valor\n",
    "pero contando doble posibles reordenamientos'''\n",
    "\n"
   ]
  },
  {
   "attachments": {
    "image.png": {
     "image/png": "[encoded data removed]"
    }
   },
   "cell_type": "markdown",
   "metadata": {},
   "source": [
    "Vamos a usar un arreglo 2d como sigue\n",
    "![image.png](attachment:image.png)"
   ]
  },
  {
   "cell_type": "code",
   "execution_count": 2,
   "metadata": {},
   "outputs": [
    {
     "name": "stdout",
     "output_type": "stream",
     "text": [
      "73682.0\n"
     ]
    }
   ],
   "source": [
    "''' Necesitamos un dynamic algorithm pero de dos dimensions'''\n",
    "import numpy as np\n",
    "\n",
    "#formas[i,j] es la cantidad de formas de llegar a i pesos usando solo las \n",
    "#primeras j monedas \n",
    "\n",
    "monedas = [1,2,5,10,20,50,100,200]\n",
    "formas = np.zeros((202,len(monedas)))\n",
    "\n",
    "#hay una forma de conseguir 1 peso, sin importar cuantas monedas usemos.\n",
    "for j in range(len(monedas)):\n",
    "    formas[1,j] = 1\n",
    "    \n",
    "\n",
    "for i in range(1,202):\n",
    "    for j in range(len(monedas)):\n",
    "        # el numero de formas de conseguir es igual a que si no tuvieramos la \n",
    "        #ultima moneda\n",
    "        formas[i,j] = formas[i,j-1]\n",
    "        # pero como si la tenemos,\n",
    "        # vemos si esta ultima moneda nos es util.\n",
    "        if monedas[j] <= i:\n",
    "            formas[i][j] += formas[i-monedas[j]][j]\n",
    "    \n",
    "# el numero de formas de conseguir i pesos con j monedas\n",
    "#es igual al numero de formas de conseguir i pesos con j-1 monedas\n",
    "# mas el numero de formas de conseguir i-moneda_j pesos con j monedas.\n",
    "\n",
    "#Es decir, para calcular formas[i][j], hay dos opciones, usamos la ultima moneda\n",
    "#(la moneda j) o no la usamos. Si no la usamos, el numero de formas de sumar i\n",
    "# es formas[i,j-1].\n",
    "#si s'i la usamos, para que se pueda usar, debe de cumplir monedas_j <= i. \n",
    "# En tal caso, el numero de formas de llegar a i pesos usando las j monedas\n",
    "# es igual a el numero de formas de llegar a i-j pesos usando las j monedas, \n",
    "# porque sabemos que el dinero restante sera la moneda j.\n",
    "\n",
    "\n",
    "\n",
    "print(formas[-1][-1])"
   ]
  },
  {
   "cell_type": "markdown",
   "metadata": {},
   "source": [
    "#### 32. Pandigital product\n",
    "Podemos escribir 39 * 186 = 7254 y vemos que es un producto que incluye todos los digitos 123456789. Buscamos todos los productos de este tipo <br> \n",
    "\n",
    "El producto tiene que ser de un numero de dos digitos por uno de 3, porque de otra forma no alcanzarian los digitos o sobrarian "
   ]
  },
  {
   "cell_type": "code",
   "execution_count": 29,
   "metadata": {},
   "outputs": [
    {
     "name": "stdout",
     "output_type": "stream",
     "text": [
      "[[12, 483], [18, 297], [27, 198], [28, 157], [39, 186], [42, 138], [48, 159]]\n"
     ]
    }
   ],
   "source": [
    "# a es el numero de 2 digitos\n",
    "# b es el de 3 digitos\n",
    "\n",
    "def checa23(a,b):\n",
    "    c = a*b \n",
    "    a = str(a)\n",
    "    b = str(b)\n",
    "    c = str(c)\n",
    "    \n",
    "    if b[0] == a[0] or b[1] == a[0] or b[2] == a[0]:\n",
    "        return(False)\n",
    "    elif b[0] == a[1] or b[1] == a[1] or b[2] == a[1]:\n",
    "        return(False)\n",
    "    if len(c) != 4:\n",
    "        return(False)\n",
    "    \n",
    "    num = a+b+c\n",
    "    \n",
    "    lis = set()\n",
    "    digs = set([1,2,3,4,5,6,7,8,9])\n",
    "    for i in range(len(num)):\n",
    "        lis.add(int(num[i]))\n",
    "    if lis == digs:\n",
    "        return(True)\n",
    "    return(False)\n",
    "    \n",
    "    \n",
    "res =[]\n",
    "for a in range(10,99):\n",
    "    for b in range(102,999):\n",
    "        if checa23(a,b) == True:\n",
    "            res.append([a,b])\n",
    "print(res)\n",
    "\n",
    "\n",
    "    \n",
    "    "
   ]
  },
  {
   "cell_type": "code",
   "execution_count": 30,
   "metadata": {},
   "outputs": [
    {
     "name": "stdout",
     "output_type": "stream",
     "text": [
      "[5796, 5346, 5346, 4396, 7254, 5796, 7632]\n",
      "41566\n",
      "{5346, 5796, 4396, 7632, 7254}\n",
      "30424\n"
     ]
    }
   ],
   "source": [
    "suma = 0\n",
    "prods=[]\n",
    "for prod in res:\n",
    "    prods.append(prod[0]*prod[1])\n",
    "print(prods)\n",
    "print(sum(prods))\n",
    "prods = set(prods)\n",
    "print(prods)\n",
    "print(sum(prods))"
   ]
  },
  {
   "cell_type": "markdown",
   "metadata": {},
   "source": [
    "## 33. Digit cancelling\n",
    "\n",
    "49/98 se puede resolver tontamente al cancelar los 9 dando como resultado el correcto 4/8. <br>\n",
    "Buscamos todos los resultados de este tipo con denominador y numerador de dos digitos"
   ]
  },
  {
   "cell_type": "code",
   "execution_count": 58,
   "metadata": {},
   "outputs": [
    {
     "name": "stdout",
     "output_type": "stream",
     "text": [
      "[[10, 20], [10, 30], [10, 40], [10, 50], [10, 60], [10, 70], [10, 80], [10, 90], [16, 64], [19, 95], [20, 10], [20, 30], [20, 40], [20, 50], [20, 60], [20, 70], [20, 80], [20, 90], [26, 65], [30, 10], [30, 20], [30, 40], [30, 50], [30, 60], [30, 70], [30, 80], [30, 90], [40, 10], [40, 20], [40, 30], [40, 50], [40, 60], [40, 70], [40, 80], [40, 90], [49, 98], [50, 10], [50, 20], [50, 30], [50, 40], [50, 60], [50, 70], [50, 80], [50, 90], [60, 10], [60, 20], [60, 30], [60, 40], [60, 50], [60, 70], [60, 80], [60, 90], [64, 16], [65, 26], [70, 10], [70, 20], [70, 30], [70, 40], [70, 50], [70, 60], [70, 80], [70, 90], [80, 10], [80, 20], [80, 30], [80, 40], [80, 50], [80, 60], [80, 70], [80, 90], [90, 10], [90, 20], [90, 30], [90, 40], [90, 50], [90, 60], [90, 70], [90, 80], [95, 19], [98, 49]]\n"
     ]
    }
   ],
   "source": [
    "def checa(a,b):\n",
    "    sa = list(str(a))\n",
    "    sb = list(str(b))\n",
    "    abint = set(sa).intersection(set(sb))\n",
    "\n",
    "    if len(abint) == 0:\n",
    "        return(False)\n",
    "    elem = abint.pop()\n",
    "    #print(\"interse\", elem)\n",
    "    \n",
    "    sa.remove(elem)\n",
    "    sb.remove(elem)\n",
    "    \n",
    "    #print(sa)\n",
    "    #print(sb)\n",
    "    \n",
    "    if int(sb[0]) != 0 and int(sa[0]) / int(sb[0]) == a/b:\n",
    "        return(True)\n",
    "    return(False)\n",
    "    \n",
    "checa(49,98)\n",
    "\n",
    "res=[]\n",
    "for a in range(10,100):\n",
    "    for b in range(10,100):\n",
    "        if a != b: \n",
    "            if checa(a,b) == True:\n",
    "                res.append([a,b])\n",
    "print(res)"
   ]
  },
  {
   "cell_type": "code",
   "execution_count": 60,
   "metadata": {},
   "outputs": [
    {
     "name": "stdout",
     "output_type": "stream",
     "text": [
      "0.010000000000000002\n"
     ]
    }
   ],
   "source": [
    "a1 = 16/64\n",
    "a2 = 19/95\n",
    "a3 = 26/65\n",
    "a4 = 49/98\n",
    "\n",
    "print(a1*a2*a3*a4)"
   ]
  },
  {
   "cell_type": "markdown",
   "metadata": {},
   "source": [
    "## 34. Sum Factoriales\n",
    "Encuentra todos los numeros que son iguales a las sumas de sus factoriales. Como por ejemplo 145 = 1! + 4! + 5!"
   ]
  },
  {
   "cell_type": "code",
   "execution_count": 67,
   "metadata": {},
   "outputs": [
    {
     "name": "stdout",
     "output_type": "stream",
     "text": [
      "[145, 40585]\n"
     ]
    }
   ],
   "source": [
    "import math\n",
    "\n",
    "res = []\n",
    "for i in range(10,1000000):\n",
    "    si = str(i)\n",
    "    fact=0\n",
    "    for l in si:\n",
    "        fact = fact+ math.factorial(int(l))\n",
    "    if fact == i:\n",
    "        res.append(i)\n",
    "\n",
    "print(res)"
   ]
  },
  {
   "cell_type": "markdown",
   "metadata": {},
   "source": [
    "## 35. primos ciclicos\n",
    "197 es un primo ciclico porqeu 197, 971, 719 son primos. Encuentra todos los primos ciclicos que hay menores a 100000"
   ]
  },
  {
   "cell_type": "code",
   "execution_count": 112,
   "metadata": {},
   "outputs": [
    {
     "name": "stdout",
     "output_type": "stream",
     "text": [
      "{7937, 2, 3, 131, 5, 391939, 7, 11, 1931, 13, 17, 193939, 919, 93719, 31, 9377, 11939, 999331, 37, 993319, 1193, 99371, 3119, 311, 71993, 91193, 939193, 19391, 393919, 3779, 197, 71, 199, 73, 971, 79, 719, 337, 37199, 39119, 933199, 93911, 733, 991, 9311, 97, 19937, 331999, 919393, 113, 7793, 373, 319993, 199933, 939391}\n",
      "55\n"
     ]
    }
   ],
   "source": [
    "# Importamos una libreria de primos\n",
    "import sympy\n",
    "\n",
    "# primero vemos cuales son todos los primos\n",
    "losprimos = list(sympy.primerange(1,1000000))\n",
    "\n",
    "# vuelta hace una permutacion ciclica a n.\n",
    "def vuelta(n):\n",
    "    sa = str(n)\n",
    "    l = len(sa)\n",
    "    nuevo =sa[-1]\n",
    "    for i in range(l-1):\n",
    "        nuevo = nuevo  + sa[i]\n",
    "    return(int(nuevo))\n",
    "\n",
    "\n",
    "#resultado es un set para evitar repetidos\n",
    "res=set([])\n",
    "\n",
    "# para cada primo\n",
    "for i in losprimos:\n",
    "    # lo guardamos en p\n",
    "    p =i\n",
    "    # definimos mal=0\n",
    "    mal=0\n",
    "    \n",
    "    # vamos a dar len(str(i))-1 vueltas\n",
    "    for j in range(len(str(i))-1):\n",
    "        # damos una vuelta y redefinimos p\n",
    "        p = vuelta(p)\n",
    "        # si la vuelta no es prima, rompemos el for y ponemos que estuvo mal\n",
    "        if sympy.isprime(p) == False:\n",
    "            mal =1\n",
    "            break\n",
    "    #si mal == 0, significa que nunca se rompio el for y por tanto, es primo ciclico\n",
    "    if mal == 0:\n",
    "        #print(\"add\",i)\n",
    "        res.add(i)\n",
    "        \n",
    "print(res)\n",
    "print(len(res))\n",
    "            "
   ]
  },
  {
   "cell_type": "code",
   "execution_count": 78,
   "metadata": {},
   "outputs": [
    {
     "name": "stdout",
     "output_type": "stream",
     "text": [
      "3\n"
     ]
    }
   ],
   "source": []
  },
  {
   "cell_type": "code",
   "execution_count": null,
   "metadata": {},
   "outputs": [],
   "source": []
  }
 ],
 "metadata": {
  "kernelspec": {
   "display_name": "Python 3",
   "language": "python",
   "name": "python3"
  },
  "language_info": {
   "codemirror_mode": {
    "name": "ipython",
    "version": 3
   },
   "file_extension": ".py",
   "mimetype": "text/x-python",
   "name": "python",
   "nbconvert_exporter": "python",
   "pygments_lexer": "ipython3",
   "version": "3.7.7rc1"
  }
 },
 "nbformat": 4,
 "nbformat_minor": 2
}
