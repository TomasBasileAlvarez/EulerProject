{
 "cells": [
  {
   "cell_type": "markdown",
   "metadata": {},
   "source": [
    "#### 26. Ciclos Reciprocos"
   ]
  },
  {
   "cell_type": "markdown",
   "metadata": {},
   "source": [
    "Encontrar el numero d<1000 tal que 1/d tiene la expansion en decimales con ciclo mas largo "
   ]
  },
  {
   "cell_type": "code",
   "execution_count": 49,
   "metadata": {},
   "outputs": [
    {
     "name": "stdout",
     "output_type": "stream",
     "text": [
      "longitud: 982\n",
      "maximo: 983\n"
     ]
    }
   ],
   "source": [
    "#Libreria para este tipo de cosas\n",
    "import decimal\n",
    "#le decimos que siempre calcule las cosas con 500 decimales para asegurarnos\n",
    "decimal.getcontext().prec = 1000\n",
    "\n",
    "#funcion que encuentra la longitud del periodo de una expansion decimal\n",
    "\n",
    "def longitud(n):\n",
    "    # si es un decimal que no se acaba\n",
    "    if len(n) > 999:\n",
    "        # tomamos un a que sea un substring desde la posicion 12 a la 20\n",
    "        # no empezamos en la primera porque puede empezar con 0s que no se \n",
    "        # repiten (un maximo de 3 ceros va a haber, pero ponemos 12 alv)\n",
    "        a = n[12:20]\n",
    "        i = 13\n",
    "        #vamos iterando\n",
    "        while i:\n",
    "            # vemos si la siguiente substring de 8 elementos de n es igual \n",
    "            # a la primera\n",
    "            if n[i:i+8]==a:\n",
    "                # si la encontramos, ya tenemos la longitud del periodo\n",
    "                return(i-12)\n",
    "            i = i+1\n",
    "    return(0)\n",
    "\n",
    "\n",
    "'''\n",
    "division = decimal.Decimal(1) / decimal.Decimal(983)\n",
    "print(division)\n",
    "print(longitud(str(division)))\n",
    "'''\n",
    "maxx = 0\n",
    "\n",
    "for j in range(1,1000):\n",
    "    division = decimal.Decimal(1) / decimal.Decimal(j)\n",
    "    contendiente= longitud(str(division))\n",
    "    if contendiente > maxx:\n",
    "        maxx = contendiente\n",
    "        ind = j\n",
    "print(\"longitud:\", maxx)\n",
    "print(\"maximo:\", ind)"
   ]
  },
  {
   "cell_type": "markdown",
   "metadata": {},
   "source": [
    "#### 27. quadratic primes\n",
    "Las expresiones del tipo n^2 + an + b pueden generar varios primos para distintos valores de a y de b. Buscamos la formula de este tipo que genere la mayor cantidad de primos antes de dejar de generarlos para -1000<a<1000 , -1000<b<1000"
   ]
  },
  {
   "cell_type": "code",
   "execution_count": 84,
   "metadata": {},
   "outputs": [
    {
     "name": "stdout",
     "output_type": "stream",
     "text": [
      "71\n",
      "-61\n",
      "971\n"
     ]
    }
   ],
   "source": [
    "import numpy as np\n",
    "\n",
    "#usamos una funcion isPrime\n",
    "def isPrime(n):\n",
    "    if n < 0:\n",
    "        return(False)\n",
    "    \n",
    "    if n==1:\n",
    "        return(False)\n",
    "    elif n % 2 == 0:\n",
    "        return(False)\n",
    "    elif n<9:\n",
    "        return(True)\n",
    "    elif n % 3 == 0:\n",
    "        return(False)\n",
    "    else:\n",
    "        r = np.floor(np.sqrt(n))\n",
    "        f = 5\n",
    "        while f <= r:\n",
    "            if n % f == 0:\n",
    "                return(False)\n",
    "            if n % (f+2) == 0:\n",
    "                return(False)\n",
    "            f=f+6\n",
    "        \n",
    "    \n",
    "    return(True)\n",
    "''' Usamos que los primos mayores que 3 se ven como 6k +- 1'''    \n",
    "\n",
    "#definimos la funcion de aplicar n**2 + an  + b\n",
    "def aplicar(a,b,n):\n",
    "    return(int(n**2 + a*n + b))\n",
    "\n",
    "def longitud(a,b,maxx):\n",
    "    ''' funcion que da la cantidad de primos consecutivos \n",
    "    usando n**2 + an + b para n=0,1,....\n",
    "    solo da la cantidad de primos si son mas que el maxx actual\n",
    "    sino, no vale la pena y da 0'''\n",
    "    n=0\n",
    "    #Si b no es primo, para n=0 no va a haber primos y listo\n",
    "    if isPrime(b) == False:\n",
    "        return(0)\n",
    "    # en este caso, al evaluar en n=1 nos da un negativo\n",
    "    if a<0 and -a > b:\n",
    "        return(0)\n",
    "    # para que al evaluar en 1 sea un primo\n",
    "    if isPrime(1+a+b) == False:\n",
    "        return(0)\n",
    "    \n",
    "    # solo nos interesan las cadenas que sean mas largas que max\n",
    "    # por lo que vemos en distintos valores menores a maxx a ver si hay primos\n",
    "    # si no hay, es porque no llega ni a eso\n",
    "    if isPrime(aplicar(a,b,int(np.floor(maxx/10)))) == False:\n",
    "        return(0)\n",
    "    elif isPrime(aplicar(a,b,int(np.floor(maxx/2)))) == False:\n",
    "        return(0)\n",
    "    elif isPrime(aplicar(a,b,int(np.floor(maxx)))) == False:\n",
    "        return(0)\n",
    "    \n",
    "    #si los anteriores fueron primos, quiza esta nueva cadena sea mejor\n",
    "    # entonces la contabilizamos\n",
    "    while isPrime(aplicar(a,b,n)) == True:\n",
    "        n = n+1\n",
    "    return(n)\n",
    "    \n",
    "# maximo a vencer por ahora\n",
    "maxac = 41\n",
    "\n",
    "\n",
    "#vamos iterando y guardando los mejores\n",
    "for a in range(-1000,1001):\n",
    "    for b in range(-1000,1001):\n",
    "        if longitud(a,b,maxac) > maxac:\n",
    "            maxac = longitud(a,b,maxac)\n",
    "            meja = a\n",
    "            mejb = b\n",
    "print(maxac)\n",
    "print(meja)\n",
    "print(mejb)\n",
    "    \n",
    "    "
   ]
  },
  {
   "cell_type": "markdown",
   "metadata": {},
   "source": [
    "##### 28. Number spiral diagonals"
   ]
  },
  {
   "attachments": {
    "image.png": {
     "image/png": "[encoded data removed]"
    }
   },
   "cell_type": "markdown",
   "metadata": {},
   "source": [
    "![image.png](attachment:image.png)"
   ]
  },
  {
   "cell_type": "code",
   "execution_count": 94,
   "metadata": {},
   "outputs": [
    {
     "name": "stdout",
     "output_type": "stream",
     "text": [
      "669171001\n"
     ]
    }
   ],
   "source": [
    "# Para hacer una espiral de 1001 por 1001 necesitaremos llegar hasta los numeros\n",
    "# 1001*1001 (tal como aqui se requirio llegar a 5*5 = 25 o como se llega \n",
    "# a 9 en la tabla)\n",
    "\n",
    "# primero los numeros rojos van de dos en dos, luego se saltan de 4 en cuatro\n",
    "# y luego ser'a de 6 en 6, ....\n",
    "# de hecho, es facil ver que la diagonal sup der son cuadrados de los impares\n",
    "# es decir, de la forma (2n+1)^2 = 4n^2 + 4n + 1 con n=0,1,...,500\n",
    "\n",
    "# la inferior derecha son de la forma 4n^2-2n+1 con n=0,1,...,500\n",
    "# la superior izquierda son de la forma 4n^2 + 2n +1 con n=0,1,..,500\n",
    "# la inferior izquierda son de la forma 4n^2 +1 con n = 0,1,...,500\n",
    "#todo esto se puede probar por induccion\n",
    "\n",
    "suma = 1\n",
    "for i in range(1,501):\n",
    "    #suma = suma + (2*i+1)**2 + 4*i**2 - 2*i + 1 + 4*i**2 + 2*i + 1 + 4*i**2 + 1\n",
    "    suma = suma + 16*i**2 + 4*i + 4\n",
    "    \n",
    "print(suma)\n",
    "\n",
    "\n"
   ]
  },
  {
   "cell_type": "markdown",
   "metadata": {},
   "source": [
    "#### 29.  Potencias distintas"
   ]
  },
  {
   "cell_type": "markdown",
   "metadata": {},
   "source": [
    "Cuantos numeros distintos de la forma a^b para 2<= a <= 100 y 2<= b <= 100 hay"
   ]
  },
  {
   "cell_type": "code",
   "execution_count": 137,
   "metadata": {},
   "outputs": [
    {
     "name": "stdout",
     "output_type": "stream",
     "text": [
      "9362\n",
      "9183\n"
     ]
    }
   ],
   "source": [
    "# todas las potencias primas son unicas. \n",
    "# los numeros que pueden causar problemas son los que tienen una expresion en \n",
    "# factores primos igual a alguno numero que ya hayamos considerado pero \n",
    "# con todo al cuadrado (o al cubo o etc)\n",
    "# es decir, los cuadrados, los cubos, etc\n",
    "\n",
    "\n",
    "# contar cuantos numeros a hemos ya considerado para 2 <= a <= 100\n",
    "\n",
    "contador = 0\n",
    "\n",
    "#suma de todos los numeros a^b distintos\n",
    "suma = 0\n",
    "\n",
    "'''\n",
    "# hay una a que es 6ta potencia (64) \n",
    "# para 64, las primeras 15 potencias 64^2,...64^16\n",
    "#ya estan consideradas en el 2. Por lo que tenemos solo 84 potencias distintas\n",
    "contador = 1\n",
    "suma = suma + 84\n",
    "'''\n",
    "\n",
    "\n",
    "# hay una potencia quinta (32 = 2^5). \n",
    "# por lo que sus primeros 19 no contribuyen 32^2 ,... 32^20\n",
    "# solo quedan 80\n",
    "contador=1\n",
    "suma = suma + 80\n",
    "'''\n",
    "# hay dos potencias cuartas 2^4 , 3^4. Para las cuales no contribuyen las \n",
    "# potencias con b = 2, ... b = 25 y quedan solo 75\n",
    "contador = contador +2\n",
    "suma  = suma + 2*75\n",
    "'''\n",
    "\n",
    "# hay 2 potencias cubicas 2^3=8, 3^3=27. Para las cuales no contribuyen las \n",
    "# potencias con b = 2, ... b = 33 y quedan solo 66\n",
    "contador = contador +2\n",
    "suma  = suma + 2*66\n",
    "\n",
    "# hay 9 potencias cuadradas 4,9,16,25,36,49,64,81,100\n",
    "# cada una de estas tiene solo 50 terminos verdaderamente unicos\n",
    "contador = contador + 9\n",
    "suma = suma + 9*50\n",
    "\n",
    "    \n",
    "#quedan \n",
    "restan = 99  - contador\n",
    "#cada uno de estos restantes tiene todas sus potencias\n",
    "suma = suma + 100*restan\n",
    "    \n",
    "print(suma)\n",
    "# algo esto contando doble ptm.\n",
    "\n",
    "''' solucion con bruta'''\n",
    "\n",
    "from itertools import product\n",
    "\n",
    "\n",
    "def solve():\n",
    "    \"\"\" Compute the answer to Project Euler's problem #29 \"\"\"\n",
    "    upper_bound = 100\n",
    "    terms = set()\n",
    "    for a, b in product(range(2, upper_bound + 1), repeat=2):\n",
    "        terms.add(a ** b)\n",
    "    answer = len(terms)\n",
    "    return answer\n",
    "\n",
    "print(solve())"
   ]
  },
  {
   "cell_type": "markdown",
   "metadata": {},
   "source": [
    "#### 30. Quintas potencias\n",
    "Encuentra la suma de todos los numeros que se pueden escribir como la suma de las 5tas potencias de sus digitos"
   ]
  },
  {
   "cell_type": "code",
   "execution_count": 121,
   "metadata": {},
   "outputs": [
    {
     "name": "stdout",
     "output_type": "stream",
     "text": [
      "False\n",
      "[0, 1, 4150, 4151, 54748, 92727, 93084, 194979]\n",
      "443840\n"
     ]
    }
   ],
   "source": [
    "\n",
    "def checar(n):\n",
    "    sn = str(n)\n",
    "    suma = 0\n",
    "    for i in sn:\n",
    "        suma = suma+ int(i)**5\n",
    "    if suma == n:\n",
    "        return(True)\n",
    "    else:\n",
    "        return(False)\n",
    "    \n",
    "print(checar(8208))\n",
    "\n",
    "res =[]\n",
    "for i in range(1000000):\n",
    "    if checar(i)==True:\n",
    "        res.append(i)\n",
    "        \n",
    "print(res)\n",
    "print(sum(res))"
   ]
  },
  {
   "cell_type": "code",
   "execution_count": null,
   "metadata": {},
   "outputs": [],
   "source": []
  }
 ],
 "metadata": {
  "kernelspec": {
   "display_name": "Python 3",
   "language": "python",
   "name": "python3"
  },
  "language_info": {
   "codemirror_mode": {
    "name": "ipython",
    "version": 3
   },
   "file_extension": ".py",
   "mimetype": "text/x-python",
   "name": "python",
   "nbconvert_exporter": "python",
   "pygments_lexer": "ipython3",
   "version": "3.6.5"
  }
 },
 "nbformat": 4,
 "nbformat_minor": 2
}
