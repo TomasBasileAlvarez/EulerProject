{
 "cells": [
  {
   "cell_type": "markdown",
   "metadata": {},
   "source": [
    "1. Encuentra la suma de todos los multiplos de 3 o 5 menores que 1000"
   ]
  },
  {
   "cell_type": "code",
   "execution_count": 17,
   "metadata": {},
   "outputs": [
    {
     "name": "stdout",
     "output_type": "stream",
     "text": [
      "233168\n"
     ]
    }
   ],
   "source": [
    "sum=0\n",
    "for i in range(0,1000,1):\n",
    "    if i % 3 == 0:\n",
    "        sum = sum+i\n",
    "    elif i % 5 == 0:  ''' elif para que no cuente doble a los multiplos de 15'''\n",
    "        sum = sum + i\n",
    "        \n",
    "print(sum)"
   ]
  },
  {
   "cell_type": "markdown",
   "metadata": {},
   "source": [
    "2. Encuentra la suma de los numeros de fibonacci pares menores a 4000000"
   ]
  },
  {
   "cell_type": "code",
   "execution_count": 20,
   "metadata": {},
   "outputs": [
    {
     "name": "stdout",
     "output_type": "stream",
     "text": [
      "4613732\n"
     ]
    }
   ],
   "source": [
    "sum = 0 \n",
    "m=0\n",
    "n=1\n",
    "\n",
    "while n < 4000000:\n",
    "    p = n\n",
    "    n = n+m\n",
    "    m = p\n",
    "    if n % 2 ==0:\n",
    "        sum = sum + n\n",
    "print(sum)"
   ]
  },
  {
   "cell_type": "markdown",
   "metadata": {},
   "source": [
    "3. Mayor factor primo de 600851475143"
   ]
  },
  {
   "cell_type": "code",
   "execution_count": 4,
   "metadata": {},
   "outputs": [
    {
     "name": "stdout",
     "output_type": "stream",
     "text": [
      "8462696833.0\n",
      "10086647.0\n",
      "6857.0\n",
      "1.0\n"
     ]
    }
   ],
   "source": [
    "p = 600851475143\n",
    "\n",
    "while p > 1:\n",
    "    for i in range(2, int(p)+1):\n",
    "        if p % i == 0:\n",
    "            p = p/i\n",
    "            break\n",
    "            \n",
    "    print(p)"
   ]
  },
  {
   "cell_type": "markdown",
   "metadata": {},
   "source": [
    "4. Maximo palindromo formado por el producto de dos numeros de 3-digitos"
   ]
  },
  {
   "cell_type": "code",
   "execution_count": 9,
   "metadata": {},
   "outputs": [
    {
     "name": "stdout",
     "output_type": "stream",
     "text": [
      "906609\n"
     ]
    }
   ],
   "source": [
    "max=0\n",
    "for i in range(100,1000):\n",
    "    for j in range (100,1000):\n",
    "        if str(i*j) == str(i*j)[::-1] and i*j > max:\n",
    "            max=i*j\n",
    "print(max)        "
   ]
  },
  {
   "cell_type": "markdown",
   "metadata": {},
   "source": [
    "5. minimo numero divisible por todos los 1,2,...,20"
   ]
  },
  {
   "cell_type": "code",
   "execution_count": 16,
   "metadata": {},
   "outputs": [
    {
     "data": {
      "text/plain": [
       "232792560"
      ]
     },
     "execution_count": 16,
     "metadata": {},
     "output_type": "execute_result"
    }
   ],
   "source": [
    "2*3*2*5*7*2*3*11*13*2*17*19"
   ]
  },
  {
   "cell_type": "markdown",
   "metadata": {},
   "source": [
    "6. Diferencia entre la suma de los primeros 100 cuadrados y el cuadrado de los primeros 100 numeros"
   ]
  },
  {
   "cell_type": "code",
   "execution_count": 41,
   "metadata": {},
   "outputs": [
    {
     "data": {
      "text/plain": [
       "25164150"
      ]
     },
     "execution_count": 41,
     "metadata": {},
     "output_type": "execute_result"
    }
   ],
   "source": [
    "import numpy as np \n",
    "nums = np.array([i for i in range(1,101)])\n",
    "cuad = np.sum([i**2 for i in nums])\n",
    "norm = np.sum(nums)**2\n",
    "\n",
    "norm-cuad"
   ]
  },
  {
   "cell_type": "markdown",
   "metadata": {},
   "source": [
    "primo 10001"
   ]
  },
  {
   "cell_type": "code",
   "execution_count": 42,
   "metadata": {},
   "outputs": [
    {
     "name": "stdout",
     "output_type": "stream",
     "text": [
      "104743\n"
     ]
    }
   ],
   "source": [
    "def isPrime(n):\n",
    "    if n==1:\n",
    "        return(False)\n",
    "    elif n % 2 == 0:\n",
    "        return(False)\n",
    "    elif n<9:\n",
    "        return(True)\n",
    "    elif n % 3 == 0:\n",
    "        return(False)\n",
    "    else:\n",
    "        r = np.floor(np.sqrt(n))\n",
    "        f = 5\n",
    "        while f <= r:\n",
    "            if n % f == 0:\n",
    "                return(False)\n",
    "            if n % (f+2) == 0:\n",
    "                return(False)\n",
    "            f=f+6\n",
    "        \n",
    "    \n",
    "    return(True)\n",
    "''' Usamos que los primos mayores que 3 se ven como 6k +- 1'''    \n",
    "\n",
    "limit = 10000\n",
    "count = 1\n",
    "candidate=1\n",
    "\n",
    "\n",
    "while count <= limit:\n",
    "    candidate = candidate+2\n",
    "    if isPrime(candidate) == True:\n",
    "        count = count+1\n",
    "print(candidate)\n",
    "\n"
   ]
  },
  {
   "cell_type": "markdown",
   "metadata": {},
   "source": [
    "8. Encuentra los 13 digitios seguidos que tienen el maximo producto"
   ]
  },
  {
   "cell_type": "code",
   "execution_count": 33,
   "metadata": {},
   "outputs": [
    {
     "name": "stdout",
     "output_type": "stream",
     "text": [
      "5000940\n",
      "23514624000\n"
     ]
    }
   ],
   "source": [
    "num = str(7316717653133062491922511967442657474235534919493496983520312774506326239578318016984801869478851843858615607891129494954595017379583319528532088055111254069874715852386305071569329096329522744304355766896648950445244523161731856403098711121722383113622298934233803081353362766142828064444866452387493035890729629049156044077239071381051585930796086670172427121883998797908792274921901699720888093776657273330010533678812202354218097512545405947522435258490771167055601360483958644670632441572215539753697817977846174064955149290862569321978468622482839722413756570560574902614079729686524145351004748216637048440319989000889524345065854122758866688116427171479924442928230863465674813919123162824586178664583591245665294765456828489128831426076900422421902267105562632111110937054421750694165896040807198403850962455444362981230987879927244284909188845801561660979191338754992005240636899125607176060588611646710940507754100225698315520005593572972571636269561882670428252483600823257530420752963450)\n",
    "\n",
    "\n",
    "lonnum = 1000\n",
    "lon = 13\n",
    "\n",
    "def prod(num):\n",
    "    prod=1\n",
    "    for i in range(len(num)):\n",
    "        prod= prod* int(num[i])\n",
    "    return(prod)    \n",
    "\n",
    "maxi = prod(num[0:13])\n",
    "print(maxi)\n",
    "i=0\n",
    "while i < lonnum-lon:\n",
    "    \n",
    "    if prod(num[i:i+13]) > maxi:\n",
    "        maxi = prod(num[i:i+13])\n",
    "        \n",
    "    i=i+1\n",
    "        \n",
    "    \n",
    "    \n",
    "    \n",
    "print(maxi)\n",
    "\n",
    "\n",
    "\n",
    "\n"
   ]
  },
  {
   "cell_type": "markdown",
   "metadata": {},
   "source": [
    "9. Encuentra un triplete de pythagoras a^2 + b^2 = c^2 con a+b+c = 1000. Imprime abc"
   ]
  },
  {
   "cell_type": "code",
   "execution_count": 39,
   "metadata": {},
   "outputs": [
    {
     "name": "stdout",
     "output_type": "stream",
     "text": [
      "31875000\n"
     ]
    }
   ],
   "source": [
    "max=0\n",
    "for c in range(334,1000):\n",
    "    for b in range(1,1000-c):\n",
    "        a = 1000-c-b\n",
    "        if a**2 + b**2 == c**2:\n",
    "            max=a*b*c\n",
    "    \n",
    "print(max) \n",
    "    "
   ]
  },
  {
   "cell_type": "markdown",
   "metadata": {},
   "source": [
    "10. suma de primos menores a 2000000"
   ]
  },
  {
   "cell_type": "code",
   "execution_count": 43,
   "metadata": {},
   "outputs": [
    {
     "name": "stdout",
     "output_type": "stream",
     "text": [
      "142913828920\n"
     ]
    }
   ],
   "source": [
    "suma=0\n",
    "for i in range (1,2000000):\n",
    "    if isPrime(i) == True:\n",
    "        suma = suma+i\n",
    "        \n",
    "print(suma)"
   ]
  },
  {
   "cell_type": "code",
   "execution_count": null,
   "metadata": {},
   "outputs": [],
   "source": []
  }
 ],
 "metadata": {
  "kernelspec": {
   "display_name": "Python 3",
   "language": "python",
   "name": "python3"
  },
  "language_info": {
   "codemirror_mode": {
    "name": "ipython",
    "version": 3
   },
   "file_extension": ".py",
   "mimetype": "text/x-python",
   "name": "python",
   "nbconvert_exporter": "python",
   "pygments_lexer": "ipython3",
   "version": "3.7.7rc1"
  }
 },
 "nbformat": 4,
 "nbformat_minor": 2
}
